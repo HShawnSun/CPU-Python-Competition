{
 "cells": [
  {
   "cell_type": "code",
   "execution_count": 9,
   "metadata": {},
   "outputs": [
    {
     "ename": "FileNotFoundError",
     "evalue": "[Errno 2] No such file or directory: 'public_key.pem'",
     "output_type": "error",
     "traceback": [
      "\u001b[1;31m---------------------------------------------------------------------------\u001b[0m",
      "\u001b[1;31mFileNotFoundError\u001b[0m                         Traceback (most recent call last)",
      "\u001b[1;32m<ipython-input-9-c4726b2986d8>\u001b[0m in \u001b[0;36m<module>\u001b[1;34m\u001b[0m\n\u001b[0;32m      7\u001b[0m \u001b[0;31m\u001f\u001b[0m\u001b[0mH\u001b[0m\u001b[0;31m�\u001b[0m\u001b[0mp\u001b[0m\u001b[0;31m�\u001b[0m\u001b[1;33m,\u001b[0m\u001b[0;31m�\u001b[0m\u001b[0;31m�\u001b[0m\u001b[0me\u001b[0m\u001b[0;31m�\u001b[0m\u001b[0;31m�\u001b[0m\u001b[1;33m~\u001b[0m\u001b[0;31m�\u001b[0m\u001b[1;36m9\u001b[0m\u001b[0;31m�\u001b[0m\u001b[0;31m\u0011\u001b[0m\u001b[0;31m\u001b[0m\u001b[0;31m�\u001b[0m\u001b[0mF\u001b[0m\u001b[0;31m�\u001b[0m\u001b[0mF\u001b[0m\u001b[0;31m�\u001b[0m\u001b[0;31m\u0006\u001b[0m\u001b[0;31m�\u001b[0m\u001b[0;31m\u0005\u001b[0m\u001b[0mEY0\u001b[0m\u001b[0;31m�\u001b[0m\u001b[0;31m\u001a\u001b[0m\u001b[0;31m�\u001b[0m\u001b[0ms\u001b[0m\u001b[0;31m�\u001b[0m\u001b[0mF\u001b[0m\u001b[0;31m�\u001b[0m\u001b[1;36m8\u001b[0m\u001b[1;33m@\u001b[0m\u001b[0;31m�\u001b[0m\u001b[0;31m\u000f\u001b[0m\u001b[0mg\u001b[0m\u001b[1;33m+\u001b[0m\u001b[0;31m�\u001b[0m\u001b[0;31m�\u001b[0m\u001b[0;31m�\u001b[0m\u001b[0;31m\u000e\u001b[0m\u001b[0;31m�\u001b[0m\u001b[0;31m�\u001b[0m\u001b[0ma\u001b[0m\u001b[0;31m�\u001b[0m\u001b[1;33m:\u001b[0m\u001b[0;31m\u0016\u001b[0m\u001b[0mxoP\u001b[0m\u001b[0;31m�\u001b[0m\u001b[0;31m�\u001b[0m\u001b[0;31m�\u001b[0m\u001b[0;31m�\u001b[0m\u001b[0;31m�\u001b[0m\u001b[0;31m�\u001b[0m\u001b[0mVK\u001b[0m\u001b[1;33m\u001b[0m\u001b[1;33m\u001b[0m\u001b[0m\n\u001b[0;32m      8\u001b[0m \u001b[1;33m\u001b[0m\u001b[0m\n\u001b[1;32m----> 9\u001b[1;33m �&���8�O�f�\u0003xo�\"\"\"\n\u001b[0m\u001b[0;32m     10\u001b[0m \u001b[0mencrypt_text\u001b[0m \u001b[1;33m=\u001b[0m \u001b[0mcipher_text\u001b[0m\u001b[1;33m.\u001b[0m\u001b[0mencode\u001b[0m\u001b[1;33m(\u001b[0m\u001b[1;34m'utf-8'\u001b[0m\u001b[1;33m)\u001b[0m\u001b[1;33m\u001b[0m\u001b[1;33m\u001b[0m\u001b[0m\n\u001b[0;32m     11\u001b[0m \u001b[0mrsakey\u001b[0m \u001b[1;33m=\u001b[0m \u001b[0mRSA\u001b[0m\u001b[1;33m.\u001b[0m\u001b[0mimportKey\u001b[0m\u001b[1;33m(\u001b[0m\u001b[0mopen\u001b[0m\u001b[1;33m(\u001b[0m\u001b[1;34m\"public_key.pem\"\u001b[0m\u001b[1;33m)\u001b[0m\u001b[1;33m.\u001b[0m\u001b[0mread\u001b[0m\u001b[1;33m(\u001b[0m\u001b[1;33m)\u001b[0m\u001b[1;33m)\u001b[0m\u001b[1;33m\u001b[0m\u001b[1;33m\u001b[0m\u001b[0m\n",
      "\u001b[1;31mFileNotFoundError\u001b[0m: [Errno 2] No such file or directory: 'public_key.pem'"
     ]
    }
   ],
   "source": [
    "from Crypto.PublicKey import RSA\n",
    "from Crypto.Cipher import PKCS1_v1_5 as Cipher_pkcs1_v1_5\n",
    "import base64\n",
    " \n",
    "# 解密\n",
    "cipher_text = \"\"\" �/�޶�,�ρj��p�\u001a��U��y�G\u0001��z��_�K\"��4��5���l�\u0012&�Hu�\u0007���>�F�ְTvh\t��p�&i\u0012��{<�q]?�����e>I�~>H�?��o��\u0002Ϫ�L�\u0005Ƞ��ɒ��|:��r&5\u0011����<���@��Suc�\u0016�@�\u000e*F$�w�ӭpi� R�\u0006<U+7���MoO︎Q\u000fǮ\u000b\u001fH�p�,��e��~�9�\u0011�F�F�\u0006�\u0005EY0�\u001a�s�F�8@�\u000fg+���\u000e��a�:\u0016xoP������VK\n",
    "\f�&���8�O�f�\u0003xo�\"\"\"\n",
    "encrypt_text = cipher_text.encode('utf-8')\n",
    "rsakey = RSA.importKey(open(\"public_key.pem\").read())\n",
    "cipher = Cipher_pkcs1_v1_5.new(rsakey)      #创建用于执行pkcs1_v1_5加密或解密的密码\n",
    "text = cipher.decrypt(base64.b64decode(encrypt_text), \"解密失败\")\n",
    "print(text.decode('utf-8'))"
   ]
  }
 ],
 "metadata": {
  "interpreter": {
   "hash": "75ec698351fef4e7f70e441c6df0472ecaf9ec29d46e1372663985b309c411dc"
  },
  "kernelspec": {
   "display_name": "Python 3.8.8 ('base')",
   "language": "python",
   "name": "python3"
  },
  "language_info": {
   "codemirror_mode": {
    "name": "ipython",
    "version": 3
   },
   "file_extension": ".py",
   "mimetype": "text/x-python",
   "name": "python",
   "nbconvert_exporter": "python",
   "pygments_lexer": "ipython3",
   "version": "3.8.8"
  },
  "orig_nbformat": 4
 },
 "nbformat": 4,
 "nbformat_minor": 2
}
