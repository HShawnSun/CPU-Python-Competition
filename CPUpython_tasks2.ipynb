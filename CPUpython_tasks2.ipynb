{
 "cells": [
  {
   "cell_type": "code",
   "execution_count": 8,
   "metadata": {},
   "outputs": [
    {
     "name": "stdout",
     "output_type": "stream",
     "text": [
      "17052725"
     ]
    }
   ],
   "source": [
    "#以下代码是Julia\n",
    "a = 1\n",
    "for i in range(2, 2022)\n",
    "    a += factorial(big(i))\n",
    "end\n",
    "\n",
    "\n",
    "    \n",
    "print((a^32768)%19260817)"
   ]
  },
  {
   "cell_type": "code",
   "execution_count": null,
   "metadata": {},
   "outputs": [],
   "source": [
    "def encrypt(____, _____):\n",
    "    ______ = 0\n",
    "    _______ = v[0]\n",
    "    ________ = v[1]\n",
    "    _________ = 0x9E3779B9\n",
    "    __________ = k[0]\n",
    "    ___________ = k[1]\n",
    "    ____________ = k[2]\n",
    "    _____________ = k[3]\n",
    "    ______________ = 0xFFFFFFFF\n",
    "    for i in range(32):\n",
    "        ______ += _________\n",
    "        ______ = ______ & ______________\n",
    "        _______ += ((________ << 4) + __________) ^ (________ + ______) ^ ((________ >> 5) + ___________)\n",
    "        _______ = _______ & ______________\n",
    "        ________ += ((_______ << 4) + ____________) ^ (_______ + ______) ^ ((_______ >> 5) + _____________)\n",
    "        ________ = ________ & ______________\n",
    "    v[0] = _______\n",
    "    v[1] = ________\n",
    "    return v\n",
    "\n",
    "\n",
    "if __name__ == \"__main__\":\n",
    "\n",
    "    s = open(\"flag.txt\", \"r\").read()  #r表示以只读方式打开文件。文件的指针将会放在文件的开头。这是默认模式。\n",
    "    if len(s) % 2 != 0:\n",
    "        s += \" \"\n",
    "    k = [0x12, 0x98, 0x34, 0x76]\n",
    "\n",
    "    flag_file = open(\"O:/课外部/CPU/obfus/encrypted_flag.txt\", \"w\")  #w表示打开一个文件只用于写入。如果该文件已存在则打开文件，并从开头开始编辑，即原有内容会被删除。如果该文件不存在，创建新文件。\n",
    "\n",
    "    for i in range(len(s) // 2):\n",
    "        v = encrypt([ord(s[i * 2]), ord(s[i * 2 + 1])], k)    #ord()函数是chr()函数（对于8位的ASCII字符串）或unichr()函数（对于Unicode对象）的配对函数，它以一个字符（长度为1的字符串）作为参数，返回对应的ASCII数值，或者Unicode数值，如果所给的Unicode字符超出了你的Python定义范围，则会引发一个TypeError的异常。\n",
    "        flag_file.write(hex(v[0])[2:] + hex(v[1])[2:])  #hex()函数是Python中的一个库函数，用于获取给定数字的十六进制值，它接受一个数字并返回一个十六进制值(字符串格式)。 它可用于将整数转换为十六进制值。\n"
   ]
  }
 ],
 "metadata": {
  "interpreter": {
   "hash": "75ec698351fef4e7f70e441c6df0472ecaf9ec29d46e1372663985b309c411dc"
  },
  "kernelspec": {
   "display_name": "Julia 1.7.0",
   "language": "python",
   "name": "python3"
  },
  "language_info": {
   "codemirror_mode": {
    "name": "ipython",
    "version": 3
   },
   "file_extension": ".py",
   "mimetype": "text/x-python",
   "name": "python",
   "nbconvert_exporter": "python",
   "pygments_lexer": "ipython3",
   "version": "3.8.8"
  },
  "orig_nbformat": 4
 },
 "nbformat": 4,
 "nbformat_minor": 2
}
