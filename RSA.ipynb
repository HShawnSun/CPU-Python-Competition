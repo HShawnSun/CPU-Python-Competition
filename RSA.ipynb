{
 "cells": [
  {
   "cell_type": "code",
   "execution_count": 4,
   "metadata": {},
   "outputs": [
    {
     "name": "stdout",
     "output_type": "stream",
     "text": [
      "the flag is on the next line: \n",
      "  flag{WH4T_4_M3$5}\n"
     ]
    }
   ],
   "source": [
    "import base64\n",
    "print(base64.b85decode(b\"bZBKDW^7?+AZc?TZ*CxTXk{R7Wq5QTY-w&~Iv@%lAZBb~XM0yjG*n+SUrjS4HGK\").decode())"
   ]
  },
  {
   "cell_type": "code",
   "execution_count": 1,
   "metadata": {},
   "outputs": [
    {
     "ename": "SyntaxError",
     "evalue": "invalid character in identifier (<ipython-input-1-e69ee0671f44>, line 4)",
     "output_type": "error",
     "traceback": [
      "\u001b[1;36m  File \u001b[1;32m\"<ipython-input-1-e69ee0671f44>\"\u001b[1;36m, line \u001b[1;32m4\u001b[0m\n\u001b[1;33m    user: User = load_user(current_user.id)\u001b[0m\n\u001b[1;37m    ^\u001b[0m\n\u001b[1;31mSyntaxError\u001b[0m\u001b[1;31m:\u001b[0m invalid character in identifier\n"
     ]
    }
   ],
   "source": [
    "@login_required\n",
    "@app.route('/request_flag')\n",
    "def request_flag():\n",
    "     user: User = load_user(current_user.id)\n",
    "        if user.username == 'user0':\n",
    "            task = Task.query.filter_by(name='backdoor').first()\n",
    "            return redirect(url_for('.index', message_type='success', message=task.flag))\n",
    "         else:\n",
    "             return redirect(url_for('.index', message_type='fail', message=\"Sorry, I can't give you the flag\"))"
   ]
  },
  {
   "cell_type": "markdown",
   "metadata": {},
   "source": []
  },
  {
   "cell_type": "code",
   "execution_count": 33,
   "metadata": {},
   "outputs": [
    {
     "ename": "SyntaxError",
     "evalue": "invalid syntax (tasks.py, line 565)",
     "output_type": "error",
     "traceback": [
      "Traceback \u001b[1;36m(most recent call last)\u001b[0m:\n",
      "  File \u001b[0;32m\"Y:\\anaconda\\lib\\site-packages\\IPython\\core\\interactiveshell.py\"\u001b[0m, line \u001b[0;32m3437\u001b[0m, in \u001b[0;35mrun_code\u001b[0m\n    exec(code_obj, self.user_global_ns, self.user_ns)\n",
      "  File \u001b[0;32m\"<ipython-input-33-a36ab3b303a0>\"\u001b[0m, line \u001b[0;32m10\u001b[0m, in \u001b[0;35m<module>\u001b[0m\n    from secret import secret, database_uri, tasks_csv_path\n",
      "  File \u001b[0;32m\"Y:\\anaconda\\lib\\site-packages\\secret\\secret.py\"\u001b[0m, line \u001b[0;32m17\u001b[0m, in \u001b[0;35m<module>\u001b[0m\n    from secret.storage import S3\n",
      "  File \u001b[0;32m\"Y:\\anaconda\\lib\\site-packages\\secret\\storage.py\"\u001b[0m, line \u001b[0;32m6\u001b[0m, in \u001b[0;35m<module>\u001b[0m\n    import trollius as asyncio\n",
      "  File \u001b[0;32m\"Y:\\anaconda\\lib\\site-packages\\trollius\\__init__.py\"\u001b[0m, line \u001b[0;32m21\u001b[0m, in \u001b[0;35m<module>\u001b[0m\n    from .base_events import *\n",
      "\u001b[1;36m  File \u001b[1;32m\"Y:\\anaconda\\lib\\site-packages\\trollius\\base_events.py\"\u001b[1;36m, line \u001b[1;32m42\u001b[1;36m, in \u001b[1;35m<module>\u001b[1;36m\u001b[0m\n\u001b[1;33m    from . import tasks\u001b[0m\n",
      "\u001b[1;36m  File \u001b[1;32m\"Y:\\anaconda\\lib\\site-packages\\trollius\\tasks.py\"\u001b[1;36m, line \u001b[1;32m565\u001b[0m\n\u001b[1;33m    def async(coro_or_future, loop=None):\u001b[0m\n\u001b[1;37m        ^\u001b[0m\n\u001b[1;31mSyntaxError\u001b[0m\u001b[1;31m:\u001b[0m invalid syntax\n"
     ]
    }
   ],
   "source": [
    "import csv\n",
    "import flask\n",
    "\n",
    "from flask import Flask, Response, redirect, render_template, request, url_for\n",
    "from flask_login import LoginManager, UserMixin, login_user, logout_user, login_required, current_user\n",
    "from flask_sqlalchemy import SQLAlchemy\n",
    "\n",
    "from typing import *\n",
    "\n",
    "from secret import secret, database_uri, tasks_csv_path\n",
    "\n",
    "app = Flask(__name__)\n",
    "\n",
    "login_manager = LoginManager()\n",
    "login_manager.init_app(app)\n",
    "\n",
    "app.config['SECRET_KEY'] = secret\n",
    "app.config['SQLALCHEMY_DATABASE_URI'] = database_uri\n",
    "\n",
    "db = SQLAlchemy(app)\n",
    "\n",
    "\n",
    "class User(db.Model, UserMixin):                                              # user: log in\n",
    "    id = db.Column(db.Integer, primary_key=True, autoincrement=True)\n",
    "    username = db.Column(db.String(80), nullable=False, unique=True)\n",
    "    password = db.Column(db.String(80), nullable=False)\n",
    "    score = db.Column(db.Integer, nullable=False, default=0)\n",
    "\n",
    "    def __init__(self, username: str, password: str):\n",
    "        self.username = username\n",
    "        self.password = password\n",
    "\n",
    "\n",
    "class Task(db.Model):                                                          # task fulfillment: flag check mark\n",
    "    id = db.Column(db.Integer, primary_key=True, autoincrement=True)\n",
    "    name = db.Column(db.String(10), nullable=False, unique=True)\n",
    "    flag = db.Column(db.String(80), nullable=False, unique=True)\n",
    "    full_mark = db.Column(db.Integer, nullable=False)\n",
    "    num_solved = db.Column(db.Integer, nullable=False, default=0)\n",
    "\n",
    "    def __init__(self, name: str, flag: str, full_mark: int):\n",
    "        self.name = name\n",
    "        self.flag = flag\n",
    "        self.full_mark = full_mark\n",
    "\n",
    "\n",
    "class Submission(db.Model):                                                         # submission\n",
    "    id = db.Column(db.Integer, primary_key=True, autoincrement=True)\n",
    "    user_id = db.Column(db.Integer, nullable=False)\n",
    "    task_id = db.Column(db.Integer, nullable=False)\n",
    "\n",
    "    def __init__(self, user_id: int, task_id: int):\n",
    "        self.user_id = user_id\n",
    "        self.task_id = task_id\n",
    "\n",
    "\n",
    "@login_manager.user_loader                                                        # load\n",
    "def load_user(user_id) -> User:                        \n",
    "    return User.query.get(user_id)\n",
    "\n",
    "\n",
    "@app.route('/', methods=['GET'])\n",
    "def index() -> Union[Response, str]:\n",
    "    if current_user.is_authenticated:\n",
    "        user: User = load_user(current_user.id)\n",
    "    else:\n",
    "        return redirect('/login')\n",
    "\n",
    "    return render_template(\n",
    "        'index.html',\n",
    "        username=user.username,\n",
    "        score=str(user.score),\n",
    "        rank=str(User.query.filter(User.score > user.score).count() + 1),\n",
    "        message=request.args.get('message'),\n",
    "        message_type=request.args.get('message_type'),\n",
    "    )\n",
    "\n",
    "\n",
    "@app.route('/login', methods=['GET', 'POST'])\n",
    "def login() -> Union[Response, str]:\n",
    "    if flask.request.method == 'GET':\n",
    "        return render_template('login.html', message='')\n",
    "\n",
    "    try:\n",
    "        user = User.query.filter_by(username=request.form['username']).first()\n",
    "\n",
    "        if user is not None:\n",
    "            if user.password == request.form['password']:\n",
    "                login_user(user)\n",
    "                return redirect(url_for('.index'))\n",
    "            else:\n",
    "                return render_template('login.html', message=\"Wrong password\")\n",
    "        else:\n",
    "            return render_template('login.html', message=\"User does not exist\")\n",
    "\n",
    "    except Exception as ex:\n",
    "        return render_template('login.html', message=ex)\n",
    "\n",
    "\n",
    "@login_required\n",
    "@app.route('/logout')\n",
    "def logout() -> Response:\n",
    "    logout_user()\n",
    "    return redirect('/')\n",
    "\n",
    "\n",
    "@app.route('/register', methods=['GET', 'POST'])\n",
    "def register() -> Union[Response, str]:\n",
    "    if flask.request.method == 'GET':\n",
    "        return render_template('register.html')\n",
    "\n",
    "    try:\n",
    "        if User.query.filter_by(username=request.form['username']).first() is not None:\n",
    "            return render_template('register.html', message=\"Username already exists\")\n",
    "        elif request.form['username'] == \"\" or request.form['password'] is None:\n",
    "            return render_template('register.html', message=\"Username and password cannot be empty\")\n",
    "\n",
    "        user = User(request.form['username'], request.form['password'])\n",
    "        db.session.add(user)\n",
    "        db.session.commit()\n",
    "        login_user(user)\n",
    "        return redirect(url_for('.index'))\n",
    "\n",
    "    except Exception as ex:\n",
    "        print(ex)\n",
    "        return render_template('register.html', message=ex)\n",
    "\n",
    "\n",
    "@app.route('/download/<task>', methods=['GET'])\n",
    "async def download_task_data(task: str) -> Response:\n",
    "    return app.send_static_file('data/' + task + '.zip')\n",
    "\n",
    "\n",
    "@app.route('/source', methods=['GET'])\n",
    "async def get_source() -> Response:\n",
    "    resp = flask.Response(open(__file__, encoding='utf-8').read())\n",
    "    resp.headers['content-type'] = 'text/plain; charset=utf-8'\n",
    "    return resp\n",
    "\n",
    "\n",
    "@login_required\n",
    "@app.route('/submit/<task>', methods=['POST'])\n",
    "def submit_flag(task: str) -> Response:\n",
    "    flag = request.form['flag']\n",
    "\n",
    "    try:\n",
    "        user_id = current_user.id\n",
    "        user: User = load_user(user_id)\n",
    "        task: Task = Task.query.filter_by(name=task).first()\n",
    "\n",
    "        if task.flag == flag:\n",
    "            score = int((1 - min((0.5 * task.num_solved / 10), 1)) * task.full_mark)\n",
    "            if Submission.query.filter_by(user_id=user.id).filter_by(task_id=task.id).first() is None:\n",
    "                User.query.filter_by(id=user.id).update({'score': user.score + score if score > 100 else 100})\n",
    "                Task.query.filter_by(id=task.id).update({'num_solved': task.num_solved + 1})\n",
    "                db.session.add(Submission(user.id, task.id))\n",
    "                db.session.commit()\n",
    "            return redirect(url_for('.index', message_type='success', message=\"Correct flag!\"))\n",
    "        else:\n",
    "            return redirect(url_for('.index', message_type='fail', message=\"Wrong flag!\"))\n",
    "\n",
    "    except Exception as ex:\n",
    "        print(ex)\n",
    "        return redirect(url_for('.index', message_type='fail', message=\"Error\"))\n",
    "\n",
    "\n",
    "@login_required\n",
    "@app.route('/request_flag')                  # key step\n",
    "def request_flag():                                                                          #important message\n",
    "    user: User = load_user(current_user.id)\n",
    "    if user.username == 'user0':\n",
    "        task = Task.query.filter_by(name='backdoor').first()\n",
    "        return redirect(url_for('.index', message_type='success', message=task.flag))\n",
    "    else:\n",
    "        return redirect(url_for('.index', message_type='fail', message=\"Sorry, I can't give you the flag\"))\n",
    "\n",
    "\n",
    "@app.route('/rank')\n",
    "def rank_list():                                                                      #rank table\n",
    "\n",
    "    user_info_list = list()\n",
    "\n",
    "    for user in User.query.all():\n",
    "        user_info = dict()\n",
    "        user_info['name'] = user.username\n",
    "        user_info['score'] = user.score\n",
    "        user_info['tasks'] = list()\n",
    "\n",
    "        for task in Task.query.all():\n",
    "            if Submission.query.filter(Submission.user_id == user.id).filter(Submission.task_id == task.id).count() > 0:\n",
    "                user_info['tasks'].append((task.name, True))\n",
    "            else:\n",
    "                user_info['tasks'].append((task.name, False))\n",
    "\n",
    "        if any(t[1] for t in user_info['tasks']):\n",
    "            user_info_list.append(user_info)\n",
    "\n",
    "    user_info_list.sort(key=lambda u: u['score'], reverse=True)\n",
    "    return render_template('rank.html', user_info=user_info_list)\n",
    "\n",
    "\n",
    "@app.before_first_request\n",
    "def init_database():\n",
    "    db.create_all()\n",
    "\n",
    "    if User.query.filter_by(username='user0').first() is None:\n",
    "        user = User('user0', 'Default.User#0')                                     # password is Default.User#0 !\n",
    "        db.session.add(user)\n",
    "        db.session.commit()\n",
    "                                                         \n",
    "    try:\n",
    "        with open(tasks_csv_path, newline='') as tasks_csv_file:\n",
    "            tasks_csv_reader = csv.DictReader(tasks_csv_file)\n",
    "\n",
    "            for task_row in tasks_csv_reader:\n",
    "                task_name = task_row['name']\n",
    "                flag = task_row['flag']\n",
    "                full_mark = int(task_row['mark'])\n",
    "                if Task.query.filter_by(name=task_name).first() is None:\n",
    "                    task = Task(task_name, flag, full_mark)\n",
    "                    db.session.add(task)\n",
    "\n",
    "    except Exception as ex:\n",
    "        print(ex)\n",
    "        exit(-1)\n",
    "\n",
    "    db.session.commit()\n",
    "\n",
    "# if __name__ == '__main__':\n",
    "#     app.run(host='0.0.0.0', debug=True)"
   ]
  },
  {
   "cell_type": "markdown",
   "metadata": {},
   "source": [
    "backdoor\n",
    "flag{N0_SY5T3M_15_4B$0LUT3LY_5AF3}"
   ]
  },
  {
   "cell_type": "code",
   "execution_count": null,
   "metadata": {},
   "outputs": [],
   "source": [
    "from gmpy2 import *\n",
    "import time\n",
    "start=time.clock()\n",
    "n = mpz(63281217910257742583918406571)\n",
    "x = mpz(2)\n",
    "y = x**2 + 1\n",
    "for i in range(n):\n",
    "  p = gcd(y-x,n)\n",
    "  if p != 1:\n",
    "    print(p)\n",
    "    break\n",
    "  else:\n",
    "    y=(((y**2+1)%n)**2+1)%n\n",
    "    x=(x**2+1)%n\n",
    "end=time.clock()\n",
    "print(end-start)"
   ]
  },
  {
   "cell_type": "code",
   "execution_count": 1,
   "metadata": {},
   "outputs": [
    {
     "ename": "SyntaxError",
     "evalue": "invalid character in identifier (<ipython-input-1-8ff84899e12c>, line 1)",
     "output_type": "error",
     "traceback": [
      "\u001b[1;36m  File \u001b[1;32m\"<ipython-input-1-8ff84899e12c>\"\u001b[1;36m, line \u001b[1;32m1\u001b[0m\n\u001b[1;33m    ➜  RsaCtfTool-master python3 RsaCtfTool.py --publickey /mnt/c/Users/blue/Desktop/workspace/pubkey.pem --uncipherfile /mnt/c/Users/blue/Desktop/workspace/flag.enc\u001b[0m\n\u001b[1;37m    ^\u001b[0m\n\u001b[1;31mSyntaxError\u001b[0m\u001b[1;31m:\u001b[0m invalid character in identifier\n"
     ]
    }
   ],
   "source": [
    "➜  RsaCtfTool-master python3 RsaCtfTool.py --publickey /mnt/c/Users/blue/Desktop/workspace/pubkey.pem --uncipherfile /mnt/c/Users/blue/Desktop/workspace/flag.enc\n",
    "[+] Clear text : b'\\x00\\x02\\xc0\\xfe\\x04\\xe3&\\x0e[\\x87\\x00PCTF{256b_i5_m3dium}\\n'"
   ]
  },
  {
   "cell_type": "code",
   "execution_count": 2,
   "metadata": {},
   "outputs": [
    {
     "ename": "SyntaxError",
     "evalue": "invalid syntax (<ipython-input-2-30378ee4b33c>, line 1)",
     "output_type": "error",
     "traceback": [
      "\u001b[1;36m  File \u001b[1;32m\"<ipython-input-2-30378ee4b33c>\"\u001b[1;36m, line \u001b[1;32m1\u001b[0m\n\u001b[1;33m    RsaCtfTool-master python3 RsaCtfTool.py --dumpkey --key /mnt/c/Users/blue/Desktop/workspace/pubkey.pem\u001b[0m\n\u001b[1;37m                      ^\u001b[0m\n\u001b[1;31mSyntaxError\u001b[0m\u001b[1;31m:\u001b[0m invalid syntax\n"
     ]
    }
   ],
   "source": [
    "RsaCtfTool-master python3 RsaCtfTool.py --dumpkey --key /mnt/c/Users/blue/Desktop/workspace/pubkey.pem\n",
    "[*] n: 87924348264132406875276140514499937145050893665602592992418171647042491658461\n",
    "[*] e: 2\n",
    "\n",
    "➜  RsaCtfTool-master cat /mnt/c/Users/blue/Desktop/workspace/flag.enc\n",
    "9╚m'WiK?GxC7H%"
   ]
  },
  {
   "cell_type": "code",
   "execution_count": 13,
   "metadata": {},
   "outputs": [
    {
     "name": "stdout",
     "output_type": "stream",
     "text": [
      "[q = 121452628145144393423317809328333425215257320416746185773469993658994820464022160054386506840537083750682040109301039308860847871253835883403612894665217710146877290825749023533787465714022707712660546674992877210389908097097449729525173802237962699091767935256681160094155787379477623246951290464087946041031,\n",
      " p = 150220371183550270019771831620359762926624219942383385440957162651353531120749413468426304125567622629721840729064683599408928790676101919519884999950724587096761985116075152965409477752998809679629573815435090770665559516973878345823829475713557508216022773962651628440378272090223785324841821337512143291367]\n"
     ]
    }
   ],
   "source": [
    "\n",
    "import z3\n",
    "import gmpy2\n",
    "from Crypto.Util.number import *\n",
    "s = 271672999328694663443089640948693188141881540359129571214427156310348351584771573522812810966104706380403880838365722908269776661929937802923497894615942297243639275941824176499196943467021517392290120490427967981055467614071328075349003277951520207307790709219332788534534059469701408571793111801600089332398\n",
    "n = 18244658881181295319272954883581678165861403741755390442222821758115654615383597556932534821731714810350902659365958634733959171693227147622579104808443800023012807714693188254396658989969487167715220145731741176715085310151537361663088589594993290952472481178948462183192763514126228103186090214442977240685491317488226909051593066670516048910819151311106270034153401256626490170049142121264758358176294786363098332982684729097021211531812844797607301714352763239886641744402910016721377618233849598049421731283613204896542399123531691287972535075680132369125078503060130096219979805250532197494614877651313570079377\n",
    "c = 9982404430128628319460096817021682708004041565035290186717543367896053768314546561325519047732421305742915803158627731630816806760457896955185660519641210406070992709854525079205889290656766462542565382082500517018022078935175455174193675834049195975249215857769348493749181265812457145268873504426358369635240359831717983659211576843033366734030629007224954735338968474959579208259275500679834724272930952006386468745205010136829227065466809167172815459266107445250332546484781883749881174230824790424174571269001813440684711977243960629870372992760938447771175944247778848268805750052191141866322609455381738837998\n",
    "so=z3.Solver()\n",
    "p,q=z3.Ints(\"p q\")\n",
    "\n",
    "so.add(p+q==s)\n",
    "so.add(p*q==n)\n",
    "so.add(p>0)\n",
    "arr=[]\n",
    "\n",
    "#校验是否有解\n",
    "\n",
    "if so.check()==z3.sat:\n",
    "\n",
    "    arr = so.model()\n",
    "\n",
    "print(arr)\n",
    "\n",
    "#得到p，q"
   ]
  },
  {
   "cell_type": "markdown",
   "metadata": {},
   "source": [
    "[q = 121452628145144393423317809328333425215257320416746185773469993658994820464022160054386506840537083750682040109301039308860847871253835883403612894665217710146877290825749023533787465714022707712660546674992877210389908097097449729525173802237962699091767935256681160094155787379477623246951290464087946041031,\n",
    " p = 150220371183550270019771831620359762926624219942383385440957162651353531120749413468426304125567622629721840729064683599408928790676101919519884999950724587096761985116075152965409477752998809679629573815435090770665559516973878345823829475713557508216022773962651628440378272090223785324841821337512143291367]\n",
    "\n",
    " "
   ]
  },
  {
   "cell_type": "code",
   "execution_count": 15,
   "metadata": {},
   "outputs": [
    {
     "name": "stdout",
     "output_type": "stream",
     "text": [
      "3040776480196882553212159147263613027643567290292565073703803626352609102563932926155422470288619135058483776560993105788993195282204524603763184134740633337168801285782198042399443164994914527952536690955290196119180885025256226943848098265832215158745413529824743697198793919021038017197681702407162873447536607414816369064691662838261225953779544961791190077156495683386023636410728424623657591201698346663782408690719834364791905811647151165780633969956136823773833744743514306703696779127804680109521935132197539485914488584910060535437255299621435360302881298973466217947574290963471798153803627641618913457830\n"
     ]
    }
   ],
   "source": [
    "import gmpy2\n",
    "q = 121452628145144393423317809328333425215257320416746185773469993658994820464022160054386506840537083750682040109301039308860847871253835883403612894665217710146877290825749023533787465714022707712660546674992877210389908097097449729525173802237962699091767935256681160094155787379477623246951290464087946041031\n",
    "p = 150220371183550270019771831620359762926624219942383385440957162651353531120749413468426304125567622629721840729064683599408928790676101919519884999950724587096761985116075152965409477752998809679629573815435090770665559516973878345823829475713557508216022773962651628440378272090223785324841821337512143291367\n",
    "\n",
    "\n",
    "m = gmpy2.lcm(q-1, p-1)\n",
    "print(m)\n"
   ]
  },
  {
   "cell_type": "code",
   "execution_count": 16,
   "metadata": {},
   "outputs": [
    {
     "name": "stdout",
     "output_type": "stream",
     "text": [
      "42134526936703520298201966791804502061510425695548421959165693565\n"
     ]
    }
   ],
   "source": [
    "\n",
    "e = 65537\n",
    "n = 18244658881181295319272954883581678165861403741755390442222821758115654615383597556932534821731714810350902659365958634733959171693227147622579104808443800023012807714693188254396658989969487167715220145731741176715085310151537361663088589594993290952472481178948462183192763514126228103186090214442977240685491317488226909051593066670516048910819151311106270034153401256626490170049142121264758358176294786363098332982684729097021211531812844797607301714352763239886641744402910016721377618233849598049421731283613204896542399123531691287972535075680132369125078503060130096219979805250532197494614877651313570079377\n",
    "c = 9982404430128628319460096817021682708004041565035290186717543367896053768314546561325519047732421305742915803158627731630816806760457896955185660519641210406070992709854525079205889290656766462542565382082500517018022078935175455174193675834049195975249215857769348493749181265812457145268873504426358369635240359831717983659211576843033366734030629007224954735338968474959579208259275500679834724272930952006386468745205010136829227065466809167172815459266107445250332546484781883749881174230824790424174571269001813440684711977243960629870372992760938447771175944247778848268805750052191141866322609455381738837998\n",
    "m = 3040776480196882553212159147263613027643567290292565073703803626352609102563932926155422470288619135058483776560993105788993195282204524603763184134740633337168801285782198042399443164994914527952536690955290196119180885025256226943848098265832215158745413529824743697198793919021038017197681702407162873447536607414816369064691662838261225953779544961791190077156495683386023636410728424623657591201698346663782408690719834364791905811647151165780633969956136823773833744743514306703696779127804680109521935132197539485914488584910060535437255299621435360302881298973466217947574290963471798153803627641618913457830\n",
    "d = pow(e, -1, m)                            #pow(x,y,z)：这个是表示x的y次幂后除以z的余数。求出d即可解密\n",
    "\n",
    "FLAG = pow(c, d, n)      \n",
    "print(FLAG) "
   ]
  },
  {
   "cell_type": "code",
   "execution_count": 17,
   "metadata": {},
   "outputs": [],
   "source": [
    "c = 9982404430128628319460096817021682708004041565035290186717543367896053768314546561325519047732421305742915803158627731630816806760457896955185660519641210406070992709854525079205889290656766462542565382082500517018022078935175455174193675834049195975249215857769348493749181265812457145268873504426358369635240359831717983659211576843033366734030629007224954735338968474959579208259275500679834724272930952006386468745205010136829227065466809167172815459266107445250332546484781883749881174230824790424174571269001813440684711977243960629870372992760938447771175944247778848268805750052191141866322609455381738837998\n",
    "\n",
    "\n",
    "\n"
   ]
  },
  {
   "cell_type": "code",
   "execution_count": 31,
   "metadata": {},
   "outputs": [
    {
     "name": "stdout",
     "output_type": "stream",
     "text": [
      "0x666c61677b5231563335545f5348344d31525f41444c334d344e7d\n"
     ]
    }
   ],
   "source": [
    "FLAG = 42134526936703520298201966791804502061510425695548421959165693565\n",
    "\n",
    "import binascii as b\n",
    "print(hex(FLAG))\n",
    "\n"
   ]
  },
  {
   "cell_type": "markdown",
   "metadata": {},
   "source": [
    "b'\\x92TIG\"D\\x90f0pW\\t &g\\x91q!Q\\x87w\\x03\\x15t\\x80\\x00d\\x02#)\\x80Qb\\x108Vtu\\x06bT\\x06ei\\x15\\x10sw\\x83\\x83\\x11FQD\\x12a\\x00\\x91D\\x00p6\\x18\\'B\\x92\\x07)U\\x19\\x12\\x86\\x94\\x90\\x95\\x18\\x03r\\x85\\x95\\x83\\x91RpU\\x08\\x927S\\x0549PP\\x02t\\x882\\x11XtQe\\x00\\x93PY\\x97xh\\x95\\x18\"\\x011Rr\\t@b\\x08xRPb x\\x855\\x96s\"9\\x014`\\x07\\x12eYw&\\x10\\x87\\x99$p$\\x1921Qfr\\x15T\\x95&T\\x03x\\x02\\x93x\\x88u\\x18\\x82\\x80e\\x81\\x83\\x15\\x899#\\x12d\\x14S`y5f8BIG\\x861Y\\x05G5\\'g\\x14\\x84\\'\\x08!(F\\x91\\x87\\x15\\x83%\\x86\\x96x3\\x95\\x88\\x89%\\x91G\\x81\\x19!0\\x14\\x95B\\x17\\x97v\\x98e\\x99aB\\x12\\x83&3\\x82V\\t\\x86I\\x99\\x04\\x08\\x04Y!\\x98%UxP%2\\x13\"d#\\x96 \\x13#(uu\\x03\\t\\x02\\tG @\\x89b\\x81Sd\\x81F\\x89bUaI\\x08\\x96)xd\\x91\\x06\\x19\\x03\\x98(\\x17Dc\\x870 Bv\\t\\x87\\x94#'"
   ]
  },
  {
   "cell_type": "code",
   "execution_count": 33,
   "metadata": {},
   "outputs": [
    {
     "ename": "AttributeError",
     "evalue": "'int' object has no attribute 'decode'",
     "output_type": "error",
     "traceback": [
      "\u001b[1;31m---------------------------------------------------------------------------\u001b[0m",
      "\u001b[1;31mAttributeError\u001b[0m                            Traceback (most recent call last)",
      "\u001b[1;32m<ipython-input-33-06deeb2b94f3>\u001b[0m in \u001b[0;36m<module>\u001b[1;34m\u001b[0m\n\u001b[0;32m      1\u001b[0m \u001b[0mzam\u001b[0m \u001b[1;33m=\u001b[0m \u001b[1;36m0x666c61677b5231563335545f5348344d31525f41444c334d344e7d\u001b[0m\u001b[1;33m\u001b[0m\u001b[1;33m\u001b[0m\u001b[0m\n\u001b[0;32m      2\u001b[0m \u001b[0mencoding\u001b[0m\u001b[1;33m=\u001b[0m\u001b[1;34m'ISO-8859-9'\u001b[0m\u001b[1;33m\u001b[0m\u001b[1;33m\u001b[0m\u001b[0m\n\u001b[1;32m----> 3\u001b[1;33m \u001b[0mans\u001b[0m \u001b[1;33m=\u001b[0m \u001b[0mzam\u001b[0m\u001b[1;33m.\u001b[0m\u001b[0mdecode\u001b[0m\u001b[1;33m(\u001b[0m\u001b[0mencoding\u001b[0m\u001b[1;33m)\u001b[0m\u001b[1;33m\u001b[0m\u001b[1;33m\u001b[0m\u001b[0m\n\u001b[0m\u001b[0;32m      4\u001b[0m \u001b[1;33m\u001b[0m\u001b[0m\n\u001b[0;32m      5\u001b[0m \u001b[0mprint\u001b[0m\u001b[1;33m(\u001b[0m\u001b[0mans\u001b[0m\u001b[1;33m)\u001b[0m\u001b[1;33m\u001b[0m\u001b[1;33m\u001b[0m\u001b[0m\n",
      "\u001b[1;31mAttributeError\u001b[0m: 'int' object has no attribute 'decode'"
     ]
    }
   ],
   "source": [
    "zam = 0x666c61677b5231563335545f5348344d31525f41444c334d344e7d\n",
    "encoding='ISO-8859-9'\n",
    "ans = zam.decode(encoding)\n",
    "\n",
    "print(ans)"
   ]
  },
  {
   "cell_type": "markdown",
   "metadata": {},
   "source": [
    "TIG\"Df0pW\t &gq!Qw\u0003\u0015td\u0002#)Qb\u00108Vtu\u0006bT\u0006ei\u0015\u0010sw\u0011FQD\u0012aDp6\u0018'B\u0007)U\u0019\u0012\u0018\u0003rRp7S\u000549PP\u0002t2\u0011XtQePYxh\u0018\"\u00011Rr\t@xRPb x5s\"9\u00014`\u0007\u0012eYw&\u0010$p$\u001921Qfr\u0015T&T\u0003x\u0002xu\u0018e\u00159#\u0012d\u0014S`y5f8BIG1Y\u0005G5'g\u0014!(F\u0015%x3%G\u0019!0\u0014B\u0017veaB\u0012&3V\tI\u0004Y!%UxP%2\u0013\"d# \u0013#(uu\u0003\t\u0002\tG @bSdFbUa)xd\u0006\u0019\u0003(\u0017Dc0 Bv\t#"
   ]
  },
  {
   "cell_type": "code",
   "execution_count": null,
   "metadata": {},
   "outputs": [],
   "source": []
  }
 ],
 "metadata": {
  "interpreter": {
   "hash": "75ec698351fef4e7f70e441c6df0472ecaf9ec29d46e1372663985b309c411dc"
  },
  "kernelspec": {
   "display_name": "Julia 1.7.0",
   "language": "python",
   "name": "python3"
  },
  "language_info": {
   "codemirror_mode": {
    "name": "ipython",
    "version": 3
   },
   "file_extension": ".py",
   "mimetype": "text/x-python",
   "name": "python",
   "nbconvert_exporter": "python",
   "pygments_lexer": "ipython3",
   "version": "3.8.8"
  },
  "orig_nbformat": 4
 },
 "nbformat": 4,
 "nbformat_minor": 2
}
